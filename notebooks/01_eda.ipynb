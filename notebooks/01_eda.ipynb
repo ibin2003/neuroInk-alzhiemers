{
 "cells": [
  {
   "cell_type": "code",
   "execution_count": null,
   "id": "6e5070db-5641-49ed-8b37-75cd9d05fdc6",
   "metadata": {},
   "outputs": [],
   "source": [
    "import pandas as pd\n",
    "import matplotlib.pyplot as plt\n",
    "import seaborn as sns\n",
    "\n",
    "# Load dataset\n",
    "df = pd.read_csv(\"data/alzheimers.csv\")  # Replace with actual file name\n",
    "\n",
    "# Basic info\n",
    "print(df.shape)\n",
    "print(df.head())\n",
    "\n",
    "# Check label distribution\n",
    "sns.countplot(x='label', data=df)\n",
    "plt.title(\"Label Distribution\")\n",
    "plt.show()\n",
    "\n",
    "# Check missing values\n",
    "print(df.isnull().sum())\n"
   ]
  }
 ],
 "metadata": {
  "kernelspec": {
   "display_name": "Python 3 (ipykernel)",
   "language": "python",
   "name": "python3"
  },
  "language_info": {
   "codemirror_mode": {
    "name": "ipython",
    "version": 3
   },
   "file_extension": ".py",
   "mimetype": "text/x-python",
   "name": "python",
   "nbconvert_exporter": "python",
   "pygments_lexer": "ipython3",
   "version": "3.13.5"
  }
 },
 "nbformat": 4,
 "nbformat_minor": 5
}
