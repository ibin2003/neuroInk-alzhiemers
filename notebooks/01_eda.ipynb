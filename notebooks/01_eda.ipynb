{
 "cells": [
  {
   "cell_type": "code",
   "execution_count": null,
   "id": "6e5070db-5641-49ed-8b37-75cd9d05fdc6",
   "metadata": {},
   "outputs": [],
   "source": [
    "import numpy as np \n",
    "import pandas as pd \n",
    "import matplotlib.pyplot as plt\n",
    "import seaborn as sns\n",
    "from collections import defaultdict\n",
    "from scipy.stats import skew, kurtosis\n",
    "from sklearn.preprocessing import StandardScaler\n",
    "from sklearn.decomposition import PCA\n",
    "\n",
    "from sklearn.model_selection import train_test_split, LeaveOneOut, GridSearchCV\n",
    "from sklearn.metrics import roc_auc_score, roc_curve, auc , classification_report, confusion_matrix\n",
    "from ipywidgets import interact, interactive, widgets, interact_manual, Dropdown\n",
    "\n",
    "from catboost import CatBoostClassifier\n",
    "\n",
    "from sklearn.linear_model import LogisticRegression\n",
    "from sklearn.ensemble import RandomForestClassifier\n",
    "\n",
    "\n",
    "from sklearn.svm import SVC\n",
    "\n",
    "import torch\n",
    "import torch.nn as nn\n",
    "from torch.utils.data import DataLoader, TensorDataset\n",
    "\n",
    "import re\n",
    "\n",
    "import warnings\n",
    "warnings.filterwarnings(\"ignore\")"
   ]
  },
  {
   "cell_type": "code",
   "execution_count": null,
   "id": "14f22414",
   "metadata": {},
   "outputs": [],
   "source": [
    "data = pd.read_csv('/kaggle/input/handwriting-data-to-detect-alzheimers-disease/data.csv')\n",
    "\n",
    "print(\"Shape of the data:\", data.shape)\n",
    "data.head()"
   ]
  },
  {
   "cell_type": "code",
   "execution_count": null,
   "id": "7fe8f735",
   "metadata": {},
   "outputs": [],
   "source": [
    "data.info()\n",
    "\n",
    "# Corrected dtypes to count numeric and categorical variables\n",
    "numeric_vars = data.select_dtypes(include=['int64', 'float64']).columns\n",
    "categorical_vars = data.select_dtypes(include=['object', 'category']).columns\n",
    "print(\"===\")\n",
    "print(f\"Number of numeric variables: {len(numeric_vars)}\")\n",
    "print(f\"Number of categorical variables: {len(categorical_vars)}\")"
   ]
  },
  {
   "cell_type": "code",
   "execution_count": null,
   "id": "04138c64",
   "metadata": {},
   "outputs": [],
   "source": [
    "# Clean the 'class' column by removing any leading/trailing spaces and converting to uppercase\n",
    "data['class'] = data['class'].str.strip().str.upper()\n",
    "\n",
    "# Transform the Class column: 'P' -> 1 and 'H' -> 0\n",
    "data['class'] = data['class'].map({'P': 1, 'H': 0})\n",
    "\n",
    "# Drop the 'ID' column\n",
    "data = data.drop(columns=['ID'])"
   ]
  },
  {
   "cell_type": "code",
   "execution_count": null,
   "id": "a53d39ae",
   "metadata": {},
   "outputs": [],
   "source": [
    "numeric_vars = data.select_dtypes(include=['int64', 'float64']).columns\n",
    "categorical_vars = data.select_dtypes(include=['object', 'category']).columns\n",
    "print(\"===\")\n",
    "print(f\"Number of numeric variables: {len(numeric_vars)}\")\n",
    "print(f\"Number of categorical variables: {len(categorical_vars)}\")"
   ]
  },
  {
   "cell_type": "code",
   "execution_count": null,
   "id": "11e9a3f1",
   "metadata": {},
   "outputs": [],
   "source": [
    "data.describe()"
   ]
  }
 ],
 "metadata": {
  "kernelspec": {
   "display_name": "Python 3 (ipykernel)",
   "language": "python",
   "name": "python3"
  },
  "language_info": {
   "codemirror_mode": {
    "name": "ipython",
    "version": 3
   },
   "file_extension": ".py",
   "mimetype": "text/x-python",
   "name": "python",
   "nbconvert_exporter": "python",
   "pygments_lexer": "ipython3",
   "version": "3.13.5"
  }
 },
 "nbformat": 4,
 "nbformat_minor": 5
}
